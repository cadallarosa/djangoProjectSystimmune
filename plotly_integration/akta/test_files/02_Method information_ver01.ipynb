{
 "cells": [
  {
   "cell_type": "code",
   "id": "36b12912",
   "metadata": {
    "ExecuteTime": {
     "end_time": "2025-02-23T03:09:51.781887Z",
     "start_time": "2025-02-23T03:09:51.452941Z"
    }
   },
   "source": [
    "import os\n",
    "import csv\n",
    "import numpy as np \n",
    "import pandas as pd\n",
    "import re\n",
    "import fnmatch"
   ],
   "outputs": [],
   "execution_count": 1
  },
  {
   "cell_type": "code",
   "id": "944c31f0",
   "metadata": {
    "ExecuteTime": {
     "end_time": "2025-02-23T03:09:51.791023Z",
     "start_time": "2025-02-23T03:09:51.786832Z"
    }
   },
   "source": [
    "#Set working directory - can optionally be set somewhere else\n",
    "os.chdir(os.getcwd())"
   ],
   "outputs": [],
   "execution_count": 2
  },
  {
   "cell_type": "code",
   "id": "7c9a925a",
   "metadata": {
    "ExecuteTime": {
     "end_time": "2025-02-23T03:09:52.064441Z",
     "start_time": "2025-02-23T03:09:52.058740Z"
    }
   },
   "source": [
    "#make a list of all the chrom_data files\n",
    "file_list = []\n",
    "pattern = '*.asc'\n",
    "path = '..'\n",
    "#os.chdir(data_folder)\n",
    "\n",
    "#use os to crawl through all the files in the directory\n",
    "for dirpath, dirnames, filenames in os.walk(path):\n",
    "\n",
    "    if not filenames:\n",
    "        continue\n",
    "    \n",
    "    ##makes a list of files that matches .asc \n",
    "    csv_files = fnmatch.filter(filenames, pattern)\n",
    "    if csv_files:\n",
    "        for file in csv_files:\n",
    "            #print('{}/{}'.format(dirpath, file))\n",
    "            file_list.append('{}/{}'.format(dirpath, file))\n",
    "\n",
    "file_list = [c for c in file_list if \"_data\" in c]            "
   ],
   "outputs": [],
   "execution_count": 3
  },
  {
   "cell_type": "code",
   "id": "e708581f",
   "metadata": {
    "ExecuteTime": {
     "end_time": "2025-02-23T03:09:52.233572Z",
     "start_time": "2025-02-23T03:09:52.224450Z"
    }
   },
   "source": [
    "#This is the SM spreadsheet column headers\n",
    "SM_column_names=[\n",
    "    \"Project Source Type (FB/UP/DN)\",\n",
    "    \"Source (UP/DN) range\",\n",
    "    \"Source Description\",\n",
    "    \"Start volume (ml)\",\n",
    "    \"pH Target\",\n",
    "    \"Conductivity target (mS/cm)\",\n",
    "    \"Buffer addition (identity, volumes, and resulting pH)\",\n",
    "    \"Acid addition (identity, volumes, and resulting pH)\",\n",
    "    \"Base addition (identity, volumes, and resulting pH)\",\n",
    "    \"Conductivity adjustment (identity, volumes, and resulting pH)\",\n",
    "    \"Filtration (Yes/No, filter identity)\",\n",
    "    \"Notes\",\n",
    "    \"Final Conductivity (mS/cm)\",\n",
    "    \"Final pH\",\n",
    "    \"Final Approximate Concentation (mg/ml)\",\n",
    "    \"Final Total Volume (ml)\"]\n",
    "SM_column_names"
   ],
   "outputs": [
    {
     "data": {
      "text/plain": [
       "['Project Source Type (FB/UP/DN)',\n",
       " 'Source (UP/DN) range',\n",
       " 'Source Description',\n",
       " 'Start volume (ml)',\n",
       " 'pH Target',\n",
       " 'Conductivity target (mS/cm)',\n",
       " 'Buffer addition (identity, volumes, and resulting pH)',\n",
       " 'Acid addition (identity, volumes, and resulting pH)',\n",
       " 'Base addition (identity, volumes, and resulting pH)',\n",
       " 'Conductivity adjustment (identity, volumes, and resulting pH)',\n",
       " 'Filtration (Yes/No, filter identity)',\n",
       " 'Notes',\n",
       " 'Final Conductivity (mS/cm)',\n",
       " 'Final pH',\n",
       " 'Final Approximate Concentation (mg/ml)',\n",
       " 'Final Total Volume (ml)']"
      ]
     },
     "execution_count": 4,
     "metadata": {},
     "output_type": "execute_result"
    }
   ],
   "execution_count": 4
  },
  {
   "cell_type": "code",
   "id": "4c730b9e",
   "metadata": {
    "ExecuteTime": {
     "end_time": "2025-02-23T03:09:52.258125Z",
     "start_time": "2025-02-23T03:09:52.250392Z"
    }
   },
   "source": [
    "## 17 columns for SM spread sheet \n",
    "## these are the corresponeding key phrases in the AKTA/Unicorn notes\n",
    "SM_phrases= [\n",
    "     \"Source Type (FB/UP/DN):\", # 'Project Source Type (FB/UP/DN)',\n",
    "     \"Source (UP/DN) range:\",#'Source (UP/DN) range',\n",
    "     \"Source Description:\",#'Source Description',\n",
    "    \"Start volume (ml):\", #'Start volume (ml)',\n",
    "     \"pH Target:\", #'pH Target',\n",
    "     \"Conductivity target (mS/cm):\",#'Conductivity target (mS/cm)',\n",
    "     \"Buffer addition:\",#'Buffer addition (identity, volumes, and resulting pH)',\n",
    "     \"Acid addition:\",#'Acid addition (identity, volumes, and resulting pH)',\n",
    "     \"Base addition:\",#'Base addition (identity, volumes, and resulting pH)',\n",
    "     \"Conductivity adjustment:\",#'Conductivity adjustment (identity, volumes, and resulting pH)',\n",
    "     \"Filtration:\",#'Filtration (Yes/No, filter identity)',\n",
    "     \"Notes:\",#'Notes',\n",
    "     \"Load conductivity (mS/cm):\",#'Final Conductivity (mS/cm)',\n",
    "     \"Load pH:\",#'Final pH',\n",
    "     \"Load A280 titer (mg/ml):\",#'Final Approximate Concentation (mg/ml)',\n",
    "     \"Load total volume (ml):\"]#'Final Total Volume (ml)']\n",
    "SM_phrases"
   ],
   "outputs": [
    {
     "data": {
      "text/plain": [
       "['Source Type (FB/UP/DN):',\n",
       " 'Source (UP/DN) range:',\n",
       " 'Source Description:',\n",
       " 'Start volume (ml):',\n",
       " 'pH Target:',\n",
       " 'Conductivity target (mS/cm):',\n",
       " 'Buffer addition:',\n",
       " 'Acid addition:',\n",
       " 'Base addition:',\n",
       " 'Conductivity adjustment:',\n",
       " 'Filtration:',\n",
       " 'Notes:',\n",
       " 'Load conductivity (mS/cm):',\n",
       " 'Load pH:',\n",
       " 'Load A280 titer (mg/ml):',\n",
       " 'Load total volume (ml):']"
      ]
     },
     "execution_count": 5,
     "metadata": {},
     "output_type": "execute_result"
    }
   ],
   "execution_count": 5
  },
  {
   "cell_type": "code",
   "id": "8c254240",
   "metadata": {
    "ExecuteTime": {
     "end_time": "2025-02-23T03:09:52.298131Z",
     "start_time": "2025-02-23T03:09:52.293622Z"
    }
   },
   "source": [
    "print(len(SM_column_names))\n",
    "print(len(SM_phrases))"
   ],
   "outputs": [
    {
     "name": "stdout",
     "output_type": "stream",
     "text": [
      "16\n",
      "16\n"
     ]
    }
   ],
   "execution_count": 6
  },
  {
   "cell_type": "code",
   "id": "b51b4279",
   "metadata": {
    "ExecuteTime": {
     "end_time": "2025-02-23T03:09:52.366193Z",
     "start_time": "2025-02-23T03:09:52.360506Z"
    }
   },
   "source": [
    "#This is the DN spread sheet columns\n",
    "DN_column_names= [\n",
    "    \"DN\",\n",
    "    \"Project ID\",\n",
    "    \"Study name\",\n",
    "    \"Description of purpose\",\n",
    "    \"Residence time\",\n",
    "    \"Equilibration / wash variation\",\n",
    "    \"Load variation\",\n",
    "    \"Elution variation\",\n",
    "    \"Load conductivity (mS/cm)\",\n",
    "    \"Load pH\",\n",
    "    \"Load A280 titer (mg/ml)\",\n",
    "    \"Load total volume (ml)\",\n",
    "    \"Method name\",\n",
    "    \"Date of creation: \",\n",
    "    \"Created for system\",\n",
    "    \"Result name\",\n",
    "    \"Result folder name\",\n",
    "    \"Flow rate\",\n",
    "    \"Column ID\",\n",
    "    \"SM ID\"]\n",
    "DN_column_names"
   ],
   "outputs": [
    {
     "data": {
      "text/plain": [
       "['DN',\n",
       " 'Project ID',\n",
       " 'Study name',\n",
       " 'Description of purpose',\n",
       " 'Residence time',\n",
       " 'Equilibration / wash variation',\n",
       " 'Load variation',\n",
       " 'Elution variation',\n",
       " 'Load conductivity (mS/cm)',\n",
       " 'Load pH',\n",
       " 'Load A280 titer (mg/ml)',\n",
       " 'Load total volume (ml)',\n",
       " 'Method name',\n",
       " 'Date of creation: ',\n",
       " 'Created for system',\n",
       " 'Result name',\n",
       " 'Result folder name',\n",
       " 'Flow rate',\n",
       " 'Column ID',\n",
       " 'SM ID']"
      ]
     },
     "execution_count": 7,
     "metadata": {},
     "output_type": "execute_result"
    }
   ],
   "execution_count": 7
  },
  {
   "cell_type": "code",
   "id": "b814bb1f",
   "metadata": {
    "ExecuteTime": {
     "end_time": "2025-02-23T03:09:52.436901Z",
     "start_time": "2025-02-23T03:09:52.430363Z"
    }
   },
   "source": [
    "## 22 columns for DN spread sheet \n",
    "## these are the corresponeding key phrases in the AKTA/Unicorn notes\n",
    "DN_phrases= [\n",
    "    \"Result name: \", #'DN', \n",
    "    \"Result folder name: \", #'Project ID',\n",
    "    \"Study name:\", #'Study name',\n",
    "    \"Description of purpose:\", #'Description of purpose',\n",
    "    \"Max flow rate\t\", #'Residence time',\n",
    "    \"Equilibration / wash variation:\", #'Equilibration / wash variation',\n",
    "    \"Load variation:\", #'Load variation',\n",
    "    \"Elution variation:\",#'Elution variation',\n",
    "    \"Load conductivity (mS/cm):\",#'Load conductivity (mS/cm)',\n",
    "    \"Load pH:\", #'Load pH',\n",
    "    \"Load A280 titer (mg/ml):\", #'Load A280 titer (mg/ml)',\n",
    "    \"Load total volume (ml):\", #'Load total volume (ml)',\n",
    "    \"Method name: \", #'Method name',\n",
    "    \"Date of creation:\", #'Date of creation: ',\n",
    "    \"Created for system:\", #'Created for system',\n",
    "    \"Result name: \", #'Result name',\n",
    "    \"Result folder name: \",#'Result folder name',\n",
    "    \"Max flow rate\t\", #'Flow rate',\n",
    "    \"Column ID: \",#'Column ID',\n",
    "    \"Result name: \"] #'SM ID'\n",
    "DN_phrases"
   ],
   "outputs": [
    {
     "data": {
      "text/plain": [
       "['Result name: ',\n",
       " 'Result folder name: ',\n",
       " 'Study name:',\n",
       " 'Description of purpose:',\n",
       " 'Max flow rate\\t',\n",
       " 'Equilibration / wash variation:',\n",
       " 'Load variation:',\n",
       " 'Elution variation:',\n",
       " 'Load conductivity (mS/cm):',\n",
       " 'Load pH:',\n",
       " 'Load A280 titer (mg/ml):',\n",
       " 'Load total volume (ml):',\n",
       " 'Method name: ',\n",
       " 'Date of creation:',\n",
       " 'Created for system:',\n",
       " 'Result name: ',\n",
       " 'Result folder name: ',\n",
       " 'Max flow rate\\t',\n",
       " 'Column ID: ',\n",
       " 'Result name: ']"
      ]
     },
     "execution_count": 8,
     "metadata": {},
     "output_type": "execute_result"
    }
   ],
   "execution_count": 8
  },
  {
   "cell_type": "code",
   "id": "e78427eb",
   "metadata": {
    "ExecuteTime": {
     "end_time": "2025-02-23T03:09:52.499252Z",
     "start_time": "2025-02-23T03:09:52.495696Z"
    }
   },
   "source": [
    "print(len(DN_column_names))\n",
    "print(len(DN_phrases))"
   ],
   "outputs": [
    {
     "name": "stdout",
     "output_type": "stream",
     "text": [
      "20\n",
      "20\n"
     ]
    }
   ],
   "execution_count": 9
  },
  {
   "cell_type": "code",
   "id": "9395eb0c",
   "metadata": {
    "ExecuteTime": {
     "end_time": "2025-02-23T03:09:52.566903Z",
     "start_time": "2025-02-23T03:09:52.557475Z"
    }
   },
   "source": [
    "##initialize data frame using column names\n",
    "SM_steps_performed = pd.DataFrame(columns = SM_column_names)\n",
    "\n",
    "##For each file in folder\n",
    "for file in file_list:\n",
    "    print(file)\n",
    "\n",
    "    ##initialize result list and open file\n",
    "    result = []\n",
    "    with open(file, 'r') as f:\n",
    "        lines = f.readlines()\n",
    "        ##look at each line, if the line contains the phrase, keep the line the result list.\n",
    "        for line in lines:\n",
    "            for phrase in SM_phrases:\n",
    "                if phrase in line:\n",
    "                    result.append(line)\n",
    "\n",
    "    ##put captured result in dataframe and print\n",
    "    df = pd.DataFrame(result+SM_phrases, columns = [\"method_info\"])\n",
    "    df = df.replace(r'\\n','', regex=True)\n",
    "\n",
    "    ##filter out \"Sample_ID (Type: Variable) without unique identifier\"\n",
    "    df=df[~df['method_info'].str.contains('without unique identifier', regex=False)]\n",
    "    df=df[~df['method_info'].str.contains('(e.g resin screening)', regex=False)]\n",
    "    df=df[~df['method_info'].str.contains('(e.g. 1st round bioreactor material, capture resin selection, @ 40 mg/ml load, Fry)', regex=False)]\n",
    "    df=df[~df['method_info'].str.contains('(buffer identity, pH, CV)', regex=False)]\n",
    "    df=df[~df['method_info'].str.contains('(resin loading mg/ml, solvent, pH)', regex=False)]\n",
    "    df=df[~df['method_info'].str.contains('(buffer identity, CV)', regex=False)]\n",
    "    df=df[~df['method_info'].str.contains('(BRX pool)', regex=False)]\n",
    "    df=df[~df['method_info'].str.contains('(buffer identity, CV)', regex=False)]\n",
    "    df=df[~df['method_info'].str.contains('(identity, volumes, and resulting pH)', regex=False)]\n",
    "    df=df[~df['method_info'].str.contains('(Yes/No, filter identity)', regex=False)]\n",
    "\n",
    "    ##add string lengths and sort by string length \n",
    "    df['str_len']=df[\"method_info\"].str.len()\n",
    "    df = df.sort_values(by='str_len', ascending=False)\n",
    "    print(df.to_string())\n",
    "    \n",
    "    ##filter the captured result for the longest answer for each phrase and fit into dataframe\n",
    "    result = []\n",
    "    for phrase in SM_phrases:\n",
    "        entry = df[df[\"method_info\"].str.contains(phrase, regex=False)]['method_info'].iloc[0]\n",
    "        entry = entry.replace(phrase,'').strip()\n",
    "        if entry == '': entry = 'NA'\n",
    "        result.append(entry)   \n",
    "    \n",
    "    ##append the result from this file to main dataframe\n",
    "    SM_steps_performed = pd.concat([SM_steps_performed,pd.DataFrame([result], columns = SM_column_names)])\n",
    "    \n",
    "\n"
   ],
   "outputs": [],
   "execution_count": 10
  },
  {
   "cell_type": "code",
   "id": "32941f95-867e-4971-a2f6-3b8f955d776d",
   "metadata": {
    "ExecuteTime": {
     "end_time": "2025-02-23T03:09:52.607318Z",
     "start_time": "2025-02-23T03:09:52.598789Z"
    }
   },
   "source": [
    "##define function for checking string to float\n",
    "def is_float_try_except(value):\n",
    "    try: \n",
    "        float(value)\n",
    "        return True\n",
    "    except ValueError:\n",
    "        return False\n",
    "\n",
    "##initialize data frame using column names\n",
    "DN_steps_performed = pd.DataFrame(columns = DN_column_names)\n",
    "\n",
    "##For each file in folder\n",
    "for file in file_list:\n",
    "    print(file)\n",
    "\n",
    "    ##initialize result list and open file\n",
    "    result = []\n",
    "    with open(file, 'r') as f:\n",
    "        lines = f.readlines()\n",
    "        ##look at each line, if the line contains the phrase, keep the line the result list.\n",
    "        for line in lines:\n",
    "            for phrase in DN_phrases:\n",
    "                if phrase in line:\n",
    "                    result.append(line)\n",
    "\n",
    "    ##put captured result in dataframe and print\n",
    "    df = pd.DataFrame(result+DN_phrases, columns = [\"method_info\"])\n",
    "    df = df.replace(r'\\n','', regex=True)\n",
    "\n",
    "    ##filter out \"Sample_ID (Type: Variable) without unique identifier\"\n",
    "    df=df[~df['method_info'].str.contains('without unique identifier', regex=False)]\n",
    "    df=df[~df['method_info'].str.contains('(e.g resin screening)', regex=False)]\n",
    "    df=df[~df['method_info'].str.contains('(e.g. 1st round bioreactor material, capture resin selection, @ 40 mg/ml load, Fry)', regex=False)]\n",
    "    df=df[~df['method_info'].str.contains('(buffer identity, pH, CV)', regex=False)]\n",
    "    df=df[~df['method_info'].str.contains('(resin loading mg/ml, solvent, pH)', regex=False)]\n",
    "    df=df[~df['method_info'].str.contains('(buffer identity, CV)', regex=False)]\n",
    "    df=df[~df['method_info'].str.contains('(BRX pool)', regex=False)]\n",
    "    df=df[~df['method_info'].str.contains('(buffer identity, CV)', regex=False)]\n",
    "    df=df[~df['method_info'].str.contains('(identity, volumes, and resulting pH)', regex=False)]\n",
    "    df=df[~df['method_info'].str.contains('(Yes/No, filter identity)', regex=False)]\n",
    "\n",
    "    ##add string lengths and sort by string length \n",
    "    df['str_len']=df[\"method_info\"].str.len()\n",
    "    df = df.sort_values(by='str_len', ascending=False)\n",
    "    print(df.to_string())\n",
    "    \n",
    "    ##filter the captured result for the longest answer for each phrase and fit into dataframe\n",
    "    result = []\n",
    "    for phrase in DN_phrases:\n",
    "        entry = df[df[\"method_info\"].str.contains(phrase, regex=False)]['method_info'].iloc[0]\n",
    "        entry = entry.replace(phrase,'').strip()\n",
    "        if entry == '': entry = 'NA'\n",
    "        result.append(entry)\n",
    "    \n",
    "    ##extract the DN #\n",
    "    match = re.search(r\"[A-Za-z]{2}\\s?\\d{3,4}\",result[0])\n",
    "    if match:\n",
    "        result[0]=(match.group()[2:])\n",
    "        result[19]=(match.group()[2:])\n",
    "    else:\n",
    "        result[0]=''\n",
    "        result[19]=''\n",
    "\n",
    "    ##extract the SI #\n",
    "    match = re.search(r\"[A-Za-z]{2}-\\d{2,3}[A-Za-z]{1}\\d{1,2}\",result[1])\n",
    "    if match:\n",
    "        result[1]=(match.group())\n",
    "    else:\n",
    "        result[1]=''\n",
    "    \n",
    "    ##calculate residence time\n",
    "    if is_float_try_except(result[4][:4]) and is_float_try_except(result[18][:4]):\n",
    "        result[4]=round(float(result[18][:4])/float(result[4][:4]),2)\n",
    "    else: result[4]='NA'\n",
    "    \n",
    "    ##append the result from this file to main dataframe\n",
    "    DN_steps_performed = pd.concat([DN_steps_performed,pd.DataFrame([result], columns = DN_column_names)])"
   ],
   "outputs": [],
   "execution_count": 11
  },
  {
   "cell_type": "code",
   "id": "c71e9273",
   "metadata": {
    "ExecuteTime": {
     "end_time": "2025-02-23T03:09:52.645847Z",
     "start_time": "2025-02-23T03:09:52.633781Z"
    }
   },
   "source": [
    "pd.concat([DN_steps_performed, SM_steps_performed], axis=1).to_csv(\"SMDN_Unicorn_steps.csv\")"
   ],
   "outputs": [],
   "execution_count": 12
  },
  {
   "cell_type": "code",
   "id": "83ce1421",
   "metadata": {
    "ExecuteTime": {
     "end_time": "2025-02-23T03:09:52.668327Z",
     "start_time": "2025-02-23T03:09:52.664811Z"
    }
   },
   "source": [],
   "outputs": [],
   "execution_count": null
  },
  {
   "cell_type": "code",
   "id": "eb23b7bd",
   "metadata": {
    "ExecuteTime": {
     "end_time": "2025-02-23T03:09:52.712164Z",
     "start_time": "2025-02-23T03:09:52.698685Z"
    }
   },
   "source": [
    "SM_steps_performed"
   ],
   "outputs": [
    {
     "data": {
      "text/plain": [
       "Empty DataFrame\n",
       "Columns: [Project Source Type (FB/UP/DN), Source (UP/DN) range, Source Description, Start volume (ml), pH Target, Conductivity target (mS/cm), Buffer addition (identity, volumes, and resulting pH), Acid addition (identity, volumes, and resulting pH), Base addition (identity, volumes, and resulting pH), Conductivity adjustment (identity, volumes, and resulting pH), Filtration (Yes/No, filter identity), Notes, Final Conductivity (mS/cm), Final pH, Final Approximate Concentation (mg/ml), Final Total Volume (ml)]\n",
       "Index: []"
      ],
      "text/html": [
       "<div>\n",
       "<style scoped>\n",
       "    .dataframe tbody tr th:only-of-type {\n",
       "        vertical-align: middle;\n",
       "    }\n",
       "\n",
       "    .dataframe tbody tr th {\n",
       "        vertical-align: top;\n",
       "    }\n",
       "\n",
       "    .dataframe thead th {\n",
       "        text-align: right;\n",
       "    }\n",
       "</style>\n",
       "<table border=\"1\" class=\"dataframe\">\n",
       "  <thead>\n",
       "    <tr style=\"text-align: right;\">\n",
       "      <th></th>\n",
       "      <th>Project Source Type (FB/UP/DN)</th>\n",
       "      <th>Source (UP/DN) range</th>\n",
       "      <th>Source Description</th>\n",
       "      <th>Start volume (ml)</th>\n",
       "      <th>pH Target</th>\n",
       "      <th>Conductivity target (mS/cm)</th>\n",
       "      <th>Buffer addition (identity, volumes, and resulting pH)</th>\n",
       "      <th>Acid addition (identity, volumes, and resulting pH)</th>\n",
       "      <th>Base addition (identity, volumes, and resulting pH)</th>\n",
       "      <th>Conductivity adjustment (identity, volumes, and resulting pH)</th>\n",
       "      <th>Filtration (Yes/No, filter identity)</th>\n",
       "      <th>Notes</th>\n",
       "      <th>Final Conductivity (mS/cm)</th>\n",
       "      <th>Final pH</th>\n",
       "      <th>Final Approximate Concentation (mg/ml)</th>\n",
       "      <th>Final Total Volume (ml)</th>\n",
       "    </tr>\n",
       "  </thead>\n",
       "  <tbody>\n",
       "  </tbody>\n",
       "</table>\n",
       "</div>"
      ]
     },
     "execution_count": 13,
     "metadata": {},
     "output_type": "execute_result"
    }
   ],
   "execution_count": 13
  },
  {
   "cell_type": "code",
   "id": "e57bf51c",
   "metadata": {
    "ExecuteTime": {
     "end_time": "2025-02-23T03:09:52.799398Z",
     "start_time": "2025-02-23T03:09:52.796186Z"
    }
   },
   "source": [],
   "outputs": [],
   "execution_count": null
  }
 ],
 "metadata": {
  "kernelspec": {
   "display_name": "Python 3 (ipykernel)",
   "language": "python",
   "name": "python3"
  },
  "language_info": {
   "codemirror_mode": {
    "name": "ipython",
    "version": 3
   },
   "file_extension": ".py",
   "mimetype": "text/x-python",
   "name": "python",
   "nbconvert_exporter": "python",
   "pygments_lexer": "ipython3",
   "version": "3.12.4"
  }
 },
 "nbformat": 4,
 "nbformat_minor": 5
}
